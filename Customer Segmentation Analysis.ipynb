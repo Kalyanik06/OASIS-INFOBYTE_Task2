{
 "cells": [
  {
   "cell_type": "markdown",
   "id": "21442be4",
   "metadata": {},
   "source": [
    "# Customer Segmentation Analysis"
   ]
  },
  {
   "cell_type": "markdown",
   "id": "5f621758",
   "metadata": {},
   "source": [
    "### Objective:\n",
    "\n",
    "    The objective of this data analytics project is to conduct customer segmentation analysis for an e-commerce company. Through the examination of customer behavior and purchase patterns, the aim is to categorize customers into distinct segments. This segmentation will serve to guide targeted marketing strategies, enhance customer satisfaction, and optimize overall business strategies"
   ]
  },
  {
   "cell_type": "markdown",
   "id": "1d242079",
   "metadata": {},
   "source": [
    "### Problem Statement:\n",
    "\n",
    "    This data analytics project aims to segment customers for an e-commerce company by analyzing their behavior and purchase patterns. The objective is to group customers into distinct segments to inform targeted marketing strategies, improve customer satisfaction, and enhance overall business strategies.\n",
    "    \n",
    "    In this project, the primary objective is to conduct customer segmentation analysis for an e-commerce company. To achieve this, we will start by obtaining a dataset containing customer information, purchase history, and other relevant data. Upon acquiring the dataset, we will embark on a journey of data exploration and cleaning, aiming to understand its structure and address any missing or inconsistent data points.\n",
    "\n",
    "    Following data preparation, we will delve into calculating descriptive statistics, such as average purchase value and frequency of purchases, to gain a deeper understanding of the dataset's characteristics. Once we have a comprehensive grasp of the data, we will employ clustering algorithms, such as K-means, to segment customers based on their behavior and purchase patterns.\n",
    "\n",
    "    Visualization will play a crucial role in this process as we create various visual representations, including scatter plots and bar charts, to illustrate the identified customer segments effectively. Finally, we will analyze the characteristics of each segment and draw actionable insights to inform targeted marketing strategies, enhance customer satisfaction, and optimize overall business strategies"
   ]
  },
  {
   "cell_type": "code",
   "execution_count": 52,
   "id": "f0c843fe",
   "metadata": {},
   "outputs": [],
   "source": [
    "# Import necessary libraries\n",
    "import numpy as np # linear algebra\n",
    "import pandas as pd # data processing, CSV file I/O (e.g. pd.read_csv)\n",
    "import warnings\n",
    "warnings.filterwarnings(\"ignore\")\n",
    "import seaborn as sns\n",
    "import matplotlib.pyplot as plt\n",
    "from scipy.stats import pointbiserialr\n",
    "from sklearn.decomposition import PCA\n",
    "from sklearn.preprocessing import StandardScaler\n",
    "from sklearn.cluster import KMeans"
   ]
  },
  {
   "cell_type": "code",
   "execution_count": 23,
   "id": "058eb46d",
   "metadata": {},
   "outputs": [],
   "source": [
    "#Load the dataset\n",
    "df = pd.read_csv('ifood_df.csv')"
   ]
  },
  {
   "cell_type": "code",
   "execution_count": 24,
   "id": "f82f96ea",
   "metadata": {},
   "outputs": [
    {
     "data": {
      "text/html": [
       "<div>\n",
       "<style scoped>\n",
       "    .dataframe tbody tr th:only-of-type {\n",
       "        vertical-align: middle;\n",
       "    }\n",
       "\n",
       "    .dataframe tbody tr th {\n",
       "        vertical-align: top;\n",
       "    }\n",
       "\n",
       "    .dataframe thead th {\n",
       "        text-align: right;\n",
       "    }\n",
       "</style>\n",
       "<table border=\"1\" class=\"dataframe\">\n",
       "  <thead>\n",
       "    <tr style=\"text-align: right;\">\n",
       "      <th></th>\n",
       "      <th>Income</th>\n",
       "      <th>Kidhome</th>\n",
       "      <th>Teenhome</th>\n",
       "      <th>Recency</th>\n",
       "      <th>MntWines</th>\n",
       "      <th>MntFruits</th>\n",
       "      <th>MntMeatProducts</th>\n",
       "      <th>MntFishProducts</th>\n",
       "      <th>MntSweetProducts</th>\n",
       "      <th>MntGoldProds</th>\n",
       "      <th>...</th>\n",
       "      <th>marital_Together</th>\n",
       "      <th>marital_Widow</th>\n",
       "      <th>education_2n Cycle</th>\n",
       "      <th>education_Basic</th>\n",
       "      <th>education_Graduation</th>\n",
       "      <th>education_Master</th>\n",
       "      <th>education_PhD</th>\n",
       "      <th>MntTotal</th>\n",
       "      <th>MntRegularProds</th>\n",
       "      <th>AcceptedCmpOverall</th>\n",
       "    </tr>\n",
       "  </thead>\n",
       "  <tbody>\n",
       "    <tr>\n",
       "      <th>0</th>\n",
       "      <td>58138.0</td>\n",
       "      <td>0</td>\n",
       "      <td>0</td>\n",
       "      <td>58</td>\n",
       "      <td>635</td>\n",
       "      <td>88</td>\n",
       "      <td>546</td>\n",
       "      <td>172</td>\n",
       "      <td>88</td>\n",
       "      <td>88</td>\n",
       "      <td>...</td>\n",
       "      <td>0</td>\n",
       "      <td>0</td>\n",
       "      <td>0</td>\n",
       "      <td>0</td>\n",
       "      <td>1</td>\n",
       "      <td>0</td>\n",
       "      <td>0</td>\n",
       "      <td>1529</td>\n",
       "      <td>1441</td>\n",
       "      <td>0</td>\n",
       "    </tr>\n",
       "    <tr>\n",
       "      <th>1</th>\n",
       "      <td>46344.0</td>\n",
       "      <td>1</td>\n",
       "      <td>1</td>\n",
       "      <td>38</td>\n",
       "      <td>11</td>\n",
       "      <td>1</td>\n",
       "      <td>6</td>\n",
       "      <td>2</td>\n",
       "      <td>1</td>\n",
       "      <td>6</td>\n",
       "      <td>...</td>\n",
       "      <td>0</td>\n",
       "      <td>0</td>\n",
       "      <td>0</td>\n",
       "      <td>0</td>\n",
       "      <td>1</td>\n",
       "      <td>0</td>\n",
       "      <td>0</td>\n",
       "      <td>21</td>\n",
       "      <td>15</td>\n",
       "      <td>0</td>\n",
       "    </tr>\n",
       "    <tr>\n",
       "      <th>2</th>\n",
       "      <td>71613.0</td>\n",
       "      <td>0</td>\n",
       "      <td>0</td>\n",
       "      <td>26</td>\n",
       "      <td>426</td>\n",
       "      <td>49</td>\n",
       "      <td>127</td>\n",
       "      <td>111</td>\n",
       "      <td>21</td>\n",
       "      <td>42</td>\n",
       "      <td>...</td>\n",
       "      <td>1</td>\n",
       "      <td>0</td>\n",
       "      <td>0</td>\n",
       "      <td>0</td>\n",
       "      <td>1</td>\n",
       "      <td>0</td>\n",
       "      <td>0</td>\n",
       "      <td>734</td>\n",
       "      <td>692</td>\n",
       "      <td>0</td>\n",
       "    </tr>\n",
       "    <tr>\n",
       "      <th>3</th>\n",
       "      <td>26646.0</td>\n",
       "      <td>1</td>\n",
       "      <td>0</td>\n",
       "      <td>26</td>\n",
       "      <td>11</td>\n",
       "      <td>4</td>\n",
       "      <td>20</td>\n",
       "      <td>10</td>\n",
       "      <td>3</td>\n",
       "      <td>5</td>\n",
       "      <td>...</td>\n",
       "      <td>1</td>\n",
       "      <td>0</td>\n",
       "      <td>0</td>\n",
       "      <td>0</td>\n",
       "      <td>1</td>\n",
       "      <td>0</td>\n",
       "      <td>0</td>\n",
       "      <td>48</td>\n",
       "      <td>43</td>\n",
       "      <td>0</td>\n",
       "    </tr>\n",
       "    <tr>\n",
       "      <th>4</th>\n",
       "      <td>58293.0</td>\n",
       "      <td>1</td>\n",
       "      <td>0</td>\n",
       "      <td>94</td>\n",
       "      <td>173</td>\n",
       "      <td>43</td>\n",
       "      <td>118</td>\n",
       "      <td>46</td>\n",
       "      <td>27</td>\n",
       "      <td>15</td>\n",
       "      <td>...</td>\n",
       "      <td>0</td>\n",
       "      <td>0</td>\n",
       "      <td>0</td>\n",
       "      <td>0</td>\n",
       "      <td>0</td>\n",
       "      <td>0</td>\n",
       "      <td>1</td>\n",
       "      <td>407</td>\n",
       "      <td>392</td>\n",
       "      <td>0</td>\n",
       "    </tr>\n",
       "    <tr>\n",
       "      <th>...</th>\n",
       "      <td>...</td>\n",
       "      <td>...</td>\n",
       "      <td>...</td>\n",
       "      <td>...</td>\n",
       "      <td>...</td>\n",
       "      <td>...</td>\n",
       "      <td>...</td>\n",
       "      <td>...</td>\n",
       "      <td>...</td>\n",
       "      <td>...</td>\n",
       "      <td>...</td>\n",
       "      <td>...</td>\n",
       "      <td>...</td>\n",
       "      <td>...</td>\n",
       "      <td>...</td>\n",
       "      <td>...</td>\n",
       "      <td>...</td>\n",
       "      <td>...</td>\n",
       "      <td>...</td>\n",
       "      <td>...</td>\n",
       "      <td>...</td>\n",
       "    </tr>\n",
       "    <tr>\n",
       "      <th>2200</th>\n",
       "      <td>61223.0</td>\n",
       "      <td>0</td>\n",
       "      <td>1</td>\n",
       "      <td>46</td>\n",
       "      <td>709</td>\n",
       "      <td>43</td>\n",
       "      <td>182</td>\n",
       "      <td>42</td>\n",
       "      <td>118</td>\n",
       "      <td>247</td>\n",
       "      <td>...</td>\n",
       "      <td>0</td>\n",
       "      <td>0</td>\n",
       "      <td>0</td>\n",
       "      <td>0</td>\n",
       "      <td>1</td>\n",
       "      <td>0</td>\n",
       "      <td>0</td>\n",
       "      <td>1094</td>\n",
       "      <td>847</td>\n",
       "      <td>0</td>\n",
       "    </tr>\n",
       "    <tr>\n",
       "      <th>2201</th>\n",
       "      <td>64014.0</td>\n",
       "      <td>2</td>\n",
       "      <td>1</td>\n",
       "      <td>56</td>\n",
       "      <td>406</td>\n",
       "      <td>0</td>\n",
       "      <td>30</td>\n",
       "      <td>0</td>\n",
       "      <td>0</td>\n",
       "      <td>8</td>\n",
       "      <td>...</td>\n",
       "      <td>1</td>\n",
       "      <td>0</td>\n",
       "      <td>0</td>\n",
       "      <td>0</td>\n",
       "      <td>0</td>\n",
       "      <td>0</td>\n",
       "      <td>1</td>\n",
       "      <td>436</td>\n",
       "      <td>428</td>\n",
       "      <td>1</td>\n",
       "    </tr>\n",
       "    <tr>\n",
       "      <th>2202</th>\n",
       "      <td>56981.0</td>\n",
       "      <td>0</td>\n",
       "      <td>0</td>\n",
       "      <td>91</td>\n",
       "      <td>908</td>\n",
       "      <td>48</td>\n",
       "      <td>217</td>\n",
       "      <td>32</td>\n",
       "      <td>12</td>\n",
       "      <td>24</td>\n",
       "      <td>...</td>\n",
       "      <td>0</td>\n",
       "      <td>0</td>\n",
       "      <td>0</td>\n",
       "      <td>0</td>\n",
       "      <td>1</td>\n",
       "      <td>0</td>\n",
       "      <td>0</td>\n",
       "      <td>1217</td>\n",
       "      <td>1193</td>\n",
       "      <td>1</td>\n",
       "    </tr>\n",
       "    <tr>\n",
       "      <th>2203</th>\n",
       "      <td>69245.0</td>\n",
       "      <td>0</td>\n",
       "      <td>1</td>\n",
       "      <td>8</td>\n",
       "      <td>428</td>\n",
       "      <td>30</td>\n",
       "      <td>214</td>\n",
       "      <td>80</td>\n",
       "      <td>30</td>\n",
       "      <td>61</td>\n",
       "      <td>...</td>\n",
       "      <td>1</td>\n",
       "      <td>0</td>\n",
       "      <td>0</td>\n",
       "      <td>0</td>\n",
       "      <td>0</td>\n",
       "      <td>1</td>\n",
       "      <td>0</td>\n",
       "      <td>782</td>\n",
       "      <td>721</td>\n",
       "      <td>0</td>\n",
       "    </tr>\n",
       "    <tr>\n",
       "      <th>2204</th>\n",
       "      <td>52869.0</td>\n",
       "      <td>1</td>\n",
       "      <td>1</td>\n",
       "      <td>40</td>\n",
       "      <td>84</td>\n",
       "      <td>3</td>\n",
       "      <td>61</td>\n",
       "      <td>2</td>\n",
       "      <td>1</td>\n",
       "      <td>21</td>\n",
       "      <td>...</td>\n",
       "      <td>0</td>\n",
       "      <td>0</td>\n",
       "      <td>0</td>\n",
       "      <td>0</td>\n",
       "      <td>0</td>\n",
       "      <td>0</td>\n",
       "      <td>1</td>\n",
       "      <td>151</td>\n",
       "      <td>130</td>\n",
       "      <td>0</td>\n",
       "    </tr>\n",
       "  </tbody>\n",
       "</table>\n",
       "<p>2205 rows × 39 columns</p>\n",
       "</div>"
      ],
      "text/plain": [
       "       Income  Kidhome  Teenhome  Recency  MntWines  MntFruits  \\\n",
       "0     58138.0        0         0       58       635         88   \n",
       "1     46344.0        1         1       38        11          1   \n",
       "2     71613.0        0         0       26       426         49   \n",
       "3     26646.0        1         0       26        11          4   \n",
       "4     58293.0        1         0       94       173         43   \n",
       "...       ...      ...       ...      ...       ...        ...   \n",
       "2200  61223.0        0         1       46       709         43   \n",
       "2201  64014.0        2         1       56       406          0   \n",
       "2202  56981.0        0         0       91       908         48   \n",
       "2203  69245.0        0         1        8       428         30   \n",
       "2204  52869.0        1         1       40        84          3   \n",
       "\n",
       "      MntMeatProducts  MntFishProducts  MntSweetProducts  MntGoldProds  ...  \\\n",
       "0                 546              172                88            88  ...   \n",
       "1                   6                2                 1             6  ...   \n",
       "2                 127              111                21            42  ...   \n",
       "3                  20               10                 3             5  ...   \n",
       "4                 118               46                27            15  ...   \n",
       "...               ...              ...               ...           ...  ...   \n",
       "2200              182               42               118           247  ...   \n",
       "2201               30                0                 0             8  ...   \n",
       "2202              217               32                12            24  ...   \n",
       "2203              214               80                30            61  ...   \n",
       "2204               61                2                 1            21  ...   \n",
       "\n",
       "      marital_Together  marital_Widow  education_2n Cycle  education_Basic  \\\n",
       "0                    0              0                   0                0   \n",
       "1                    0              0                   0                0   \n",
       "2                    1              0                   0                0   \n",
       "3                    1              0                   0                0   \n",
       "4                    0              0                   0                0   \n",
       "...                ...            ...                 ...              ...   \n",
       "2200                 0              0                   0                0   \n",
       "2201                 1              0                   0                0   \n",
       "2202                 0              0                   0                0   \n",
       "2203                 1              0                   0                0   \n",
       "2204                 0              0                   0                0   \n",
       "\n",
       "      education_Graduation  education_Master  education_PhD  MntTotal  \\\n",
       "0                        1                 0              0      1529   \n",
       "1                        1                 0              0        21   \n",
       "2                        1                 0              0       734   \n",
       "3                        1                 0              0        48   \n",
       "4                        0                 0              1       407   \n",
       "...                    ...               ...            ...       ...   \n",
       "2200                     1                 0              0      1094   \n",
       "2201                     0                 0              1       436   \n",
       "2202                     1                 0              0      1217   \n",
       "2203                     0                 1              0       782   \n",
       "2204                     0                 0              1       151   \n",
       "\n",
       "      MntRegularProds  AcceptedCmpOverall  \n",
       "0                1441                   0  \n",
       "1                  15                   0  \n",
       "2                 692                   0  \n",
       "3                  43                   0  \n",
       "4                 392                   0  \n",
       "...               ...                 ...  \n",
       "2200              847                   0  \n",
       "2201              428                   1  \n",
       "2202             1193                   1  \n",
       "2203              721                   0  \n",
       "2204              130                   0  \n",
       "\n",
       "[2205 rows x 39 columns]"
      ]
     },
     "execution_count": 24,
     "metadata": {},
     "output_type": "execute_result"
    }
   ],
   "source": [
    "df"
   ]
  },
  {
   "cell_type": "markdown",
   "id": "67f3cf10",
   "metadata": {},
   "source": [
    "### DataFrame Overview\n",
    "\n",
    "    Here, we're displaying the first few rows of the DataFrame using df.head() and providing a concise summary of its structure and data types with df.info()."
   ]
  },
  {
   "cell_type": "code",
   "execution_count": 25,
   "id": "9e571984",
   "metadata": {},
   "outputs": [
    {
     "name": "stdout",
     "output_type": "stream",
     "text": [
      "    Income  Kidhome  Teenhome  Recency  MntWines  MntFruits  MntMeatProducts  \\\n",
      "0  58138.0        0         0       58       635         88              546   \n",
      "1  46344.0        1         1       38        11          1                6   \n",
      "2  71613.0        0         0       26       426         49              127   \n",
      "3  26646.0        1         0       26        11          4               20   \n",
      "4  58293.0        1         0       94       173         43              118   \n",
      "\n",
      "   MntFishProducts  MntSweetProducts  MntGoldProds  ...  marital_Together  \\\n",
      "0              172                88            88  ...                 0   \n",
      "1                2                 1             6  ...                 0   \n",
      "2              111                21            42  ...                 1   \n",
      "3               10                 3             5  ...                 1   \n",
      "4               46                27            15  ...                 0   \n",
      "\n",
      "   marital_Widow  education_2n Cycle  education_Basic  education_Graduation  \\\n",
      "0              0                   0                0                     1   \n",
      "1              0                   0                0                     1   \n",
      "2              0                   0                0                     1   \n",
      "3              0                   0                0                     1   \n",
      "4              0                   0                0                     0   \n",
      "\n",
      "   education_Master  education_PhD  MntTotal  MntRegularProds  \\\n",
      "0                 0              0      1529             1441   \n",
      "1                 0              0        21               15   \n",
      "2                 0              0       734              692   \n",
      "3                 0              0        48               43   \n",
      "4                 0              1       407              392   \n",
      "\n",
      "   AcceptedCmpOverall  \n",
      "0                   0  \n",
      "1                   0  \n",
      "2                   0  \n",
      "3                   0  \n",
      "4                   0  \n",
      "\n",
      "[5 rows x 39 columns]\n"
     ]
    }
   ],
   "source": [
    "# Print the first few rows of the dataset\n",
    "print(df.head())"
   ]
  },
  {
   "cell_type": "code",
   "execution_count": 26,
   "id": "aa75cd4e",
   "metadata": {},
   "outputs": [
    {
     "name": "stdout",
     "output_type": "stream",
     "text": [
      "<class 'pandas.core.frame.DataFrame'>\n",
      "RangeIndex: 2205 entries, 0 to 2204\n",
      "Data columns (total 39 columns):\n",
      " #   Column                Non-Null Count  Dtype  \n",
      "---  ------                --------------  -----  \n",
      " 0   Income                2205 non-null   float64\n",
      " 1   Kidhome               2205 non-null   int64  \n",
      " 2   Teenhome              2205 non-null   int64  \n",
      " 3   Recency               2205 non-null   int64  \n",
      " 4   MntWines              2205 non-null   int64  \n",
      " 5   MntFruits             2205 non-null   int64  \n",
      " 6   MntMeatProducts       2205 non-null   int64  \n",
      " 7   MntFishProducts       2205 non-null   int64  \n",
      " 8   MntSweetProducts      2205 non-null   int64  \n",
      " 9   MntGoldProds          2205 non-null   int64  \n",
      " 10  NumDealsPurchases     2205 non-null   int64  \n",
      " 11  NumWebPurchases       2205 non-null   int64  \n",
      " 12  NumCatalogPurchases   2205 non-null   int64  \n",
      " 13  NumStorePurchases     2205 non-null   int64  \n",
      " 14  NumWebVisitsMonth     2205 non-null   int64  \n",
      " 15  AcceptedCmp3          2205 non-null   int64  \n",
      " 16  AcceptedCmp4          2205 non-null   int64  \n",
      " 17  AcceptedCmp5          2205 non-null   int64  \n",
      " 18  AcceptedCmp1          2205 non-null   int64  \n",
      " 19  AcceptedCmp2          2205 non-null   int64  \n",
      " 20  Complain              2205 non-null   int64  \n",
      " 21  Z_CostContact         2205 non-null   int64  \n",
      " 22  Z_Revenue             2205 non-null   int64  \n",
      " 23  Response              2205 non-null   int64  \n",
      " 24  Age                   2205 non-null   int64  \n",
      " 25  Customer_Days         2205 non-null   int64  \n",
      " 26  marital_Divorced      2205 non-null   int64  \n",
      " 27  marital_Married       2205 non-null   int64  \n",
      " 28  marital_Single        2205 non-null   int64  \n",
      " 29  marital_Together      2205 non-null   int64  \n",
      " 30  marital_Widow         2205 non-null   int64  \n",
      " 31  education_2n Cycle    2205 non-null   int64  \n",
      " 32  education_Basic       2205 non-null   int64  \n",
      " 33  education_Graduation  2205 non-null   int64  \n",
      " 34  education_Master      2205 non-null   int64  \n",
      " 35  education_PhD         2205 non-null   int64  \n",
      " 36  MntTotal              2205 non-null   int64  \n",
      " 37  MntRegularProds       2205 non-null   int64  \n",
      " 38  AcceptedCmpOverall    2205 non-null   int64  \n",
      "dtypes: float64(1), int64(38)\n",
      "memory usage: 672.0 KB\n"
     ]
    }
   ],
   "source": [
    "df.info()"
   ]
  },
  {
   "cell_type": "markdown",
   "id": "5b774c37",
   "metadata": {},
   "source": [
    "### Missing Values Summary"
   ]
  },
  {
   "cell_type": "code",
   "execution_count": 27,
   "id": "dd6e12fa",
   "metadata": {},
   "outputs": [
    {
     "name": "stdout",
     "output_type": "stream",
     "text": [
      "Income                  0\n",
      "Kidhome                 0\n",
      "Teenhome                0\n",
      "Recency                 0\n",
      "MntWines                0\n",
      "MntFruits               0\n",
      "MntMeatProducts         0\n",
      "MntFishProducts         0\n",
      "MntSweetProducts        0\n",
      "MntGoldProds            0\n",
      "NumDealsPurchases       0\n",
      "NumWebPurchases         0\n",
      "NumCatalogPurchases     0\n",
      "NumStorePurchases       0\n",
      "NumWebVisitsMonth       0\n",
      "AcceptedCmp3            0\n",
      "AcceptedCmp4            0\n",
      "AcceptedCmp5            0\n",
      "AcceptedCmp1            0\n",
      "AcceptedCmp2            0\n",
      "Complain                0\n",
      "Z_CostContact           0\n",
      "Z_Revenue               0\n",
      "Response                0\n",
      "Age                     0\n",
      "Customer_Days           0\n",
      "marital_Divorced        0\n",
      "marital_Married         0\n",
      "marital_Single          0\n",
      "marital_Together        0\n",
      "marital_Widow           0\n",
      "education_2n Cycle      0\n",
      "education_Basic         0\n",
      "education_Graduation    0\n",
      "education_Master        0\n",
      "education_PhD           0\n",
      "MntTotal                0\n",
      "MntRegularProds         0\n",
      "AcceptedCmpOverall      0\n",
      "dtype: int64\n"
     ]
    }
   ],
   "source": [
    "print(df.isnull().sum())"
   ]
  },
  {
   "cell_type": "code",
   "execution_count": 28,
   "id": "bd9af7cb",
   "metadata": {},
   "outputs": [
    {
     "data": {
      "text/plain": [
       "Income                  1963\n",
       "Kidhome                    3\n",
       "Teenhome                   3\n",
       "Recency                  100\n",
       "MntWines                 775\n",
       "MntFruits                158\n",
       "MntMeatProducts          551\n",
       "MntFishProducts          182\n",
       "MntSweetProducts         176\n",
       "MntGoldProds             212\n",
       "NumDealsPurchases         15\n",
       "NumWebPurchases           15\n",
       "NumCatalogPurchases       13\n",
       "NumStorePurchases         14\n",
       "NumWebVisitsMonth         16\n",
       "AcceptedCmp3               2\n",
       "AcceptedCmp4               2\n",
       "AcceptedCmp5               2\n",
       "AcceptedCmp1               2\n",
       "AcceptedCmp2               2\n",
       "Complain                   2\n",
       "Z_CostContact              1\n",
       "Z_Revenue                  1\n",
       "Response                   2\n",
       "Age                       56\n",
       "Customer_Days            662\n",
       "marital_Divorced           2\n",
       "marital_Married            2\n",
       "marital_Single             2\n",
       "marital_Together           2\n",
       "marital_Widow              2\n",
       "education_2n Cycle         2\n",
       "education_Basic            2\n",
       "education_Graduation       2\n",
       "education_Master           2\n",
       "education_PhD              2\n",
       "MntTotal                 897\n",
       "MntRegularProds          974\n",
       "AcceptedCmpOverall         5\n",
       "dtype: int64"
      ]
     },
     "execution_count": 28,
     "metadata": {},
     "output_type": "execute_result"
    }
   ],
   "source": [
    "df.nunique()"
   ]
  },
  {
   "cell_type": "code",
   "execution_count": 29,
   "id": "1504c7d5",
   "metadata": {},
   "outputs": [],
   "source": [
    "df.drop(columns=['Z_CostContact','Z_Revenue'],inplace=True)"
   ]
  },
  {
   "cell_type": "markdown",
   "id": "ec6ee67a",
   "metadata": {},
   "source": [
    "### Box Plot for Total Amount Spent\n",
    "This plot showcases the distribution of customer spending, represented by the 'MntTotal' variable. The box indicates the interquartile range, with the median marked by the central line. Whiskers extend to 1.5 times the IQR, identifying outliers. It provides a quick overview of customer spending behavior"
   ]
  },
  {
   "cell_type": "code",
   "execution_count": 30,
   "id": "b50a03a6",
   "metadata": {},
   "outputs": [
    {
     "data": {
      "image/png": "[encoded data removed]",
      "text/plain": [
       "<Figure size 504x360 with 1 Axes>"
      ]
     },
     "metadata": {
      "needs_background": "light"
     },
     "output_type": "display_data"
    }
   ],
   "source": [
    "plt.figure(figsize=(7,5))\n",
    "sns.boxplot(data=df, y='MntTotal')\n",
    "plt.title('Box Plot for MntTotal')\n",
    "plt.ylabel('MntTotal')\n",
    "plt.show()"
   ]
  },
  {
   "cell_type": "markdown",
   "id": "485c3094",
   "metadata": {},
   "source": [
    "### Outlier Detection for Total Amount Spent\n",
    "\n",
    "    In this section, we conduct outlier detection for the 'MntTotal' variable, which signifies the total amount spent by customers.\n",
    "\n",
    "    Initially, we rename the DataFrame variable 'data' to 'df' to maintain clarity and consistency in our code.\n",
    "\n",
    "    Next, we calculate the first quartile (Q1) and the third quartile (Q3) of the 'MntTotal' variable using the quantile() function. These quartiles are essential for computing the Interquartile Range (IQR).\n",
    "\n",
    "    The IQR, calculated as the difference between Q3 and Q1, helps us determine the spread of the data.\n",
    "\n",
    "    By multiplying the IQR by 1.5, we establish thresholds for identifying outliers: the lower bound (Q1 - 1.5 * IQR) and the upper bound (Q3 + 1.5 * IQR).\n",
    "\n",
    "    Subsequently, we filter the DataFrame to isolate outliers, defined as data points falling below the lower bound or above the upper bound.\n",
    "\n",
    "    This process enables us to pinpoint potential anomalies in customer spending behavior, aiding in further analysis or corrective actions."
   ]
  },
  {
   "cell_type": "code",
   "execution_count": 32,
   "id": "07123c74",
   "metadata": {},
   "outputs": [
    {
     "data": {
      "text/html": [
       "<div>\n",
       "<style scoped>\n",
       "    .dataframe tbody tr th:only-of-type {\n",
       "        vertical-align: middle;\n",
       "    }\n",
       "\n",
       "    .dataframe tbody tr th {\n",
       "        vertical-align: top;\n",
       "    }\n",
       "\n",
       "    .dataframe thead th {\n",
       "        text-align: right;\n",
       "    }\n",
       "</style>\n",
       "<table border=\"1\" class=\"dataframe\">\n",
       "  <thead>\n",
       "    <tr style=\"text-align: right;\">\n",
       "      <th></th>\n",
       "      <th>Income</th>\n",
       "      <th>Kidhome</th>\n",
       "      <th>Teenhome</th>\n",
       "      <th>Recency</th>\n",
       "      <th>MntWines</th>\n",
       "      <th>MntFruits</th>\n",
       "      <th>MntMeatProducts</th>\n",
       "      <th>MntFishProducts</th>\n",
       "      <th>MntSweetProducts</th>\n",
       "      <th>MntGoldProds</th>\n",
       "      <th>...</th>\n",
       "      <th>marital_Together</th>\n",
       "      <th>marital_Widow</th>\n",
       "      <th>education_2n Cycle</th>\n",
       "      <th>education_Basic</th>\n",
       "      <th>education_Graduation</th>\n",
       "      <th>education_Master</th>\n",
       "      <th>education_PhD</th>\n",
       "      <th>MntTotal</th>\n",
       "      <th>MntRegularProds</th>\n",
       "      <th>AcceptedCmpOverall</th>\n",
       "    </tr>\n",
       "  </thead>\n",
       "  <tbody>\n",
       "    <tr>\n",
       "      <th>1159</th>\n",
       "      <td>90638.0</td>\n",
       "      <td>0</td>\n",
       "      <td>0</td>\n",
       "      <td>29</td>\n",
       "      <td>1156</td>\n",
       "      <td>120</td>\n",
       "      <td>915</td>\n",
       "      <td>94</td>\n",
       "      <td>144</td>\n",
       "      <td>96</td>\n",
       "      <td>...</td>\n",
       "      <td>0</td>\n",
       "      <td>0</td>\n",
       "      <td>0</td>\n",
       "      <td>0</td>\n",
       "      <td>0</td>\n",
       "      <td>1</td>\n",
       "      <td>0</td>\n",
       "      <td>2429</td>\n",
       "      <td>2333</td>\n",
       "      <td>1</td>\n",
       "    </tr>\n",
       "    <tr>\n",
       "      <th>1467</th>\n",
       "      <td>87679.0</td>\n",
       "      <td>0</td>\n",
       "      <td>0</td>\n",
       "      <td>62</td>\n",
       "      <td>1259</td>\n",
       "      <td>172</td>\n",
       "      <td>815</td>\n",
       "      <td>97</td>\n",
       "      <td>148</td>\n",
       "      <td>33</td>\n",
       "      <td>...</td>\n",
       "      <td>1</td>\n",
       "      <td>0</td>\n",
       "      <td>0</td>\n",
       "      <td>0</td>\n",
       "      <td>1</td>\n",
       "      <td>0</td>\n",
       "      <td>0</td>\n",
       "      <td>2491</td>\n",
       "      <td>2458</td>\n",
       "      <td>3</td>\n",
       "    </tr>\n",
       "    <tr>\n",
       "      <th>1547</th>\n",
       "      <td>90638.0</td>\n",
       "      <td>0</td>\n",
       "      <td>0</td>\n",
       "      <td>29</td>\n",
       "      <td>1156</td>\n",
       "      <td>120</td>\n",
       "      <td>915</td>\n",
       "      <td>94</td>\n",
       "      <td>144</td>\n",
       "      <td>96</td>\n",
       "      <td>...</td>\n",
       "      <td>0</td>\n",
       "      <td>0</td>\n",
       "      <td>0</td>\n",
       "      <td>0</td>\n",
       "      <td>0</td>\n",
       "      <td>1</td>\n",
       "      <td>0</td>\n",
       "      <td>2429</td>\n",
       "      <td>2333</td>\n",
       "      <td>1</td>\n",
       "    </tr>\n",
       "  </tbody>\n",
       "</table>\n",
       "<p>3 rows × 37 columns</p>\n",
       "</div>"
      ],
      "text/plain": [
       "       Income  Kidhome  Teenhome  Recency  MntWines  MntFruits  \\\n",
       "1159  90638.0        0         0       29      1156        120   \n",
       "1467  87679.0        0         0       62      1259        172   \n",
       "1547  90638.0        0         0       29      1156        120   \n",
       "\n",
       "      MntMeatProducts  MntFishProducts  MntSweetProducts  MntGoldProds  ...  \\\n",
       "1159              915               94               144            96  ...   \n",
       "1467              815               97               148            33  ...   \n",
       "1547              915               94               144            96  ...   \n",
       "\n",
       "      marital_Together  marital_Widow  education_2n Cycle  education_Basic  \\\n",
       "1159                 0              0                   0                0   \n",
       "1467                 1              0                   0                0   \n",
       "1547                 0              0                   0                0   \n",
       "\n",
       "      education_Graduation  education_Master  education_PhD  MntTotal  \\\n",
       "1159                     0                 1              0      2429   \n",
       "1467                     1                 0              0      2491   \n",
       "1547                     0                 1              0      2429   \n",
       "\n",
       "      MntRegularProds  AcceptedCmpOverall  \n",
       "1159             2333                   1  \n",
       "1467             2458                   3  \n",
       "1547             2333                   1  \n",
       "\n",
       "[3 rows x 37 columns]"
      ]
     },
     "execution_count": 32,
     "metadata": {},
     "output_type": "execute_result"
    }
   ],
   "source": [
    "# Rename the variable 'data' to 'df'\n",
    "data=df\n",
    "\n",
    "# Calculate the quantiles\n",
    "Q1 = df['MntTotal'].quantile(0.25)\n",
    "Q3 = df['MntTotal'].quantile(0.75)\n",
    "\n",
    "# Calculate the IQR\n",
    "IQR = Q3 - Q1\n",
    "\n",
    "# Calculate the lower and upper bounds\n",
    "lower_bound = Q1 - 1.5 * IQR\n",
    "upper_bound = Q3 + 1.5 * IQR\n",
    "\n",
    "# Find the outliers\n",
    "outliers = df[(df['MntTotal'] < lower_bound) | (df['MntTotal'] > upper_bound)]\n",
    "\n",
    "# Print the outliers\n",
    "outliers.head()"
   ]
  },
  {
   "cell_type": "code",
   "execution_count": 33,
   "id": "147ea0a4",
   "metadata": {},
   "outputs": [
    {
     "data": {
      "text/html": [
       "<div>\n",
       "<style scoped>\n",
       "    .dataframe tbody tr th:only-of-type {\n",
       "        vertical-align: middle;\n",
       "    }\n",
       "\n",
       "    .dataframe tbody tr th {\n",
       "        vertical-align: top;\n",
       "    }\n",
       "\n",
       "    .dataframe thead th {\n",
       "        text-align: right;\n",
       "    }\n",
       "</style>\n",
       "<table border=\"1\" class=\"dataframe\">\n",
       "  <thead>\n",
       "    <tr style=\"text-align: right;\">\n",
       "      <th></th>\n",
       "      <th>Income</th>\n",
       "      <th>Kidhome</th>\n",
       "      <th>Teenhome</th>\n",
       "      <th>Recency</th>\n",
       "      <th>MntWines</th>\n",
       "      <th>MntFruits</th>\n",
       "      <th>MntMeatProducts</th>\n",
       "      <th>MntFishProducts</th>\n",
       "      <th>MntSweetProducts</th>\n",
       "      <th>MntGoldProds</th>\n",
       "      <th>...</th>\n",
       "      <th>marital_Together</th>\n",
       "      <th>marital_Widow</th>\n",
       "      <th>education_2n Cycle</th>\n",
       "      <th>education_Basic</th>\n",
       "      <th>education_Graduation</th>\n",
       "      <th>education_Master</th>\n",
       "      <th>education_PhD</th>\n",
       "      <th>MntTotal</th>\n",
       "      <th>MntRegularProds</th>\n",
       "      <th>AcceptedCmpOverall</th>\n",
       "    </tr>\n",
       "  </thead>\n",
       "  <tbody>\n",
       "    <tr>\n",
       "      <th>count</th>\n",
       "      <td>2202.000000</td>\n",
       "      <td>2202.000000</td>\n",
       "      <td>2202.000000</td>\n",
       "      <td>2202.000000</td>\n",
       "      <td>2202.000000</td>\n",
       "      <td>2202.000000</td>\n",
       "      <td>2202.000000</td>\n",
       "      <td>2202.000000</td>\n",
       "      <td>2202.000000</td>\n",
       "      <td>2202.000000</td>\n",
       "      <td>...</td>\n",
       "      <td>2202.000000</td>\n",
       "      <td>2202.000000</td>\n",
       "      <td>2202.000000</td>\n",
       "      <td>2202.000000</td>\n",
       "      <td>2202.000000</td>\n",
       "      <td>2202.000000</td>\n",
       "      <td>2202.000000</td>\n",
       "      <td>2202.000000</td>\n",
       "      <td>2202.000000</td>\n",
       "      <td>2202.000000</td>\n",
       "    </tr>\n",
       "    <tr>\n",
       "      <th>mean</th>\n",
       "      <td>51570.283379</td>\n",
       "      <td>0.442779</td>\n",
       "      <td>0.507266</td>\n",
       "      <td>49.021344</td>\n",
       "      <td>304.960036</td>\n",
       "      <td>26.252044</td>\n",
       "      <td>164.336058</td>\n",
       "      <td>37.678474</td>\n",
       "      <td>26.967302</td>\n",
       "      <td>44.014986</td>\n",
       "      <td>...</td>\n",
       "      <td>0.257493</td>\n",
       "      <td>0.034514</td>\n",
       "      <td>0.089918</td>\n",
       "      <td>0.024523</td>\n",
       "      <td>0.504995</td>\n",
       "      <td>0.164396</td>\n",
       "      <td>0.216167</td>\n",
       "      <td>560.193915</td>\n",
       "      <td>516.178928</td>\n",
       "      <td>0.297457</td>\n",
       "    </tr>\n",
       "    <tr>\n",
       "      <th>std</th>\n",
       "      <td>20679.438848</td>\n",
       "      <td>0.537250</td>\n",
       "      <td>0.544429</td>\n",
       "      <td>28.944211</td>\n",
       "      <td>336.135586</td>\n",
       "      <td>39.589747</td>\n",
       "      <td>216.312982</td>\n",
       "      <td>54.821185</td>\n",
       "      <td>40.926101</td>\n",
       "      <td>51.747221</td>\n",
       "      <td>...</td>\n",
       "      <td>0.437353</td>\n",
       "      <td>0.182587</td>\n",
       "      <td>0.286130</td>\n",
       "      <td>0.154702</td>\n",
       "      <td>0.500089</td>\n",
       "      <td>0.370719</td>\n",
       "      <td>0.411723</td>\n",
       "      <td>572.096830</td>\n",
       "      <td>549.962471</td>\n",
       "      <td>0.678134</td>\n",
       "    </tr>\n",
       "    <tr>\n",
       "      <th>min</th>\n",
       "      <td>1730.000000</td>\n",
       "      <td>0.000000</td>\n",
       "      <td>0.000000</td>\n",
       "      <td>0.000000</td>\n",
       "      <td>0.000000</td>\n",
       "      <td>0.000000</td>\n",
       "      <td>0.000000</td>\n",
       "      <td>0.000000</td>\n",
       "      <td>0.000000</td>\n",
       "      <td>0.000000</td>\n",
       "      <td>...</td>\n",
       "      <td>0.000000</td>\n",
       "      <td>0.000000</td>\n",
       "      <td>0.000000</td>\n",
       "      <td>0.000000</td>\n",
       "      <td>0.000000</td>\n",
       "      <td>0.000000</td>\n",
       "      <td>0.000000</td>\n",
       "      <td>4.000000</td>\n",
       "      <td>-283.000000</td>\n",
       "      <td>0.000000</td>\n",
       "    </tr>\n",
       "    <tr>\n",
       "      <th>25%</th>\n",
       "      <td>35182.500000</td>\n",
       "      <td>0.000000</td>\n",
       "      <td>0.000000</td>\n",
       "      <td>24.000000</td>\n",
       "      <td>24.000000</td>\n",
       "      <td>2.000000</td>\n",
       "      <td>16.000000</td>\n",
       "      <td>3.000000</td>\n",
       "      <td>1.000000</td>\n",
       "      <td>9.000000</td>\n",
       "      <td>...</td>\n",
       "      <td>0.000000</td>\n",
       "      <td>0.000000</td>\n",
       "      <td>0.000000</td>\n",
       "      <td>0.000000</td>\n",
       "      <td>0.000000</td>\n",
       "      <td>0.000000</td>\n",
       "      <td>0.000000</td>\n",
       "      <td>56.000000</td>\n",
       "      <td>42.000000</td>\n",
       "      <td>0.000000</td>\n",
       "    </tr>\n",
       "    <tr>\n",
       "      <th>50%</th>\n",
       "      <td>51258.500000</td>\n",
       "      <td>0.000000</td>\n",
       "      <td>0.000000</td>\n",
       "      <td>49.000000</td>\n",
       "      <td>176.500000</td>\n",
       "      <td>8.000000</td>\n",
       "      <td>68.000000</td>\n",
       "      <td>12.000000</td>\n",
       "      <td>8.000000</td>\n",
       "      <td>25.000000</td>\n",
       "      <td>...</td>\n",
       "      <td>0.000000</td>\n",
       "      <td>0.000000</td>\n",
       "      <td>0.000000</td>\n",
       "      <td>0.000000</td>\n",
       "      <td>1.000000</td>\n",
       "      <td>0.000000</td>\n",
       "      <td>0.000000</td>\n",
       "      <td>342.500000</td>\n",
       "      <td>288.000000</td>\n",
       "      <td>0.000000</td>\n",
       "    </tr>\n",
       "    <tr>\n",
       "      <th>75%</th>\n",
       "      <td>68146.500000</td>\n",
       "      <td>1.000000</td>\n",
       "      <td>1.000000</td>\n",
       "      <td>74.000000</td>\n",
       "      <td>505.000000</td>\n",
       "      <td>33.000000</td>\n",
       "      <td>230.750000</td>\n",
       "      <td>50.000000</td>\n",
       "      <td>33.000000</td>\n",
       "      <td>56.000000</td>\n",
       "      <td>...</td>\n",
       "      <td>1.000000</td>\n",
       "      <td>0.000000</td>\n",
       "      <td>0.000000</td>\n",
       "      <td>0.000000</td>\n",
       "      <td>1.000000</td>\n",
       "      <td>0.000000</td>\n",
       "      <td>0.000000</td>\n",
       "      <td>962.000000</td>\n",
       "      <td>883.000000</td>\n",
       "      <td>0.000000</td>\n",
       "    </tr>\n",
       "    <tr>\n",
       "      <th>max</th>\n",
       "      <td>113734.000000</td>\n",
       "      <td>2.000000</td>\n",
       "      <td>2.000000</td>\n",
       "      <td>99.000000</td>\n",
       "      <td>1493.000000</td>\n",
       "      <td>199.000000</td>\n",
       "      <td>1725.000000</td>\n",
       "      <td>259.000000</td>\n",
       "      <td>262.000000</td>\n",
       "      <td>321.000000</td>\n",
       "      <td>...</td>\n",
       "      <td>1.000000</td>\n",
       "      <td>1.000000</td>\n",
       "      <td>1.000000</td>\n",
       "      <td>1.000000</td>\n",
       "      <td>1.000000</td>\n",
       "      <td>1.000000</td>\n",
       "      <td>1.000000</td>\n",
       "      <td>2304.000000</td>\n",
       "      <td>2259.000000</td>\n",
       "      <td>4.000000</td>\n",
       "    </tr>\n",
       "  </tbody>\n",
       "</table>\n",
       "<p>8 rows × 37 columns</p>\n",
       "</div>"
      ],
      "text/plain": [
       "              Income      Kidhome     Teenhome      Recency     MntWines  \\\n",
       "count    2202.000000  2202.000000  2202.000000  2202.000000  2202.000000   \n",
       "mean    51570.283379     0.442779     0.507266    49.021344   304.960036   \n",
       "std     20679.438848     0.537250     0.544429    28.944211   336.135586   \n",
       "min      1730.000000     0.000000     0.000000     0.000000     0.000000   \n",
       "25%     35182.500000     0.000000     0.000000    24.000000    24.000000   \n",
       "50%     51258.500000     0.000000     0.000000    49.000000   176.500000   \n",
       "75%     68146.500000     1.000000     1.000000    74.000000   505.000000   \n",
       "max    113734.000000     2.000000     2.000000    99.000000  1493.000000   \n",
       "\n",
       "         MntFruits  MntMeatProducts  MntFishProducts  MntSweetProducts  \\\n",
       "count  2202.000000      2202.000000      2202.000000       2202.000000   \n",
       "mean     26.252044       164.336058        37.678474         26.967302   \n",
       "std      39.589747       216.312982        54.821185         40.926101   \n",
       "min       0.000000         0.000000         0.000000          0.000000   \n",
       "25%       2.000000        16.000000         3.000000          1.000000   \n",
       "50%       8.000000        68.000000        12.000000          8.000000   \n",
       "75%      33.000000       230.750000        50.000000         33.000000   \n",
       "max     199.000000      1725.000000       259.000000        262.000000   \n",
       "\n",
       "       MntGoldProds  ...  marital_Together  marital_Widow  education_2n Cycle  \\\n",
       "count   2202.000000  ...       2202.000000    2202.000000         2202.000000   \n",
       "mean      44.014986  ...          0.257493       0.034514            0.089918   \n",
       "std       51.747221  ...          0.437353       0.182587            0.286130   \n",
       "min        0.000000  ...          0.000000       0.000000            0.000000   \n",
       "25%        9.000000  ...          0.000000       0.000000            0.000000   \n",
       "50%       25.000000  ...          0.000000       0.000000            0.000000   \n",
       "75%       56.000000  ...          1.000000       0.000000            0.000000   \n",
       "max      321.000000  ...          1.000000       1.000000            1.000000   \n",
       "\n",
       "       education_Basic  education_Graduation  education_Master  education_PhD  \\\n",
       "count      2202.000000           2202.000000       2202.000000    2202.000000   \n",
       "mean          0.024523              0.504995          0.164396       0.216167   \n",
       "std           0.154702              0.500089          0.370719       0.411723   \n",
       "min           0.000000              0.000000          0.000000       0.000000   \n",
       "25%           0.000000              0.000000          0.000000       0.000000   \n",
       "50%           0.000000              1.000000          0.000000       0.000000   \n",
       "75%           0.000000              1.000000          0.000000       0.000000   \n",
       "max           1.000000              1.000000          1.000000       1.000000   \n",
       "\n",
       "          MntTotal  MntRegularProds  AcceptedCmpOverall  \n",
       "count  2202.000000      2202.000000         2202.000000  \n",
       "mean    560.193915       516.178928            0.297457  \n",
       "std     572.096830       549.962471            0.678134  \n",
       "min       4.000000      -283.000000            0.000000  \n",
       "25%      56.000000        42.000000            0.000000  \n",
       "50%     342.500000       288.000000            0.000000  \n",
       "75%     962.000000       883.000000            0.000000  \n",
       "max    2304.000000      2259.000000            4.000000  \n",
       "\n",
       "[8 rows x 37 columns]"
      ]
     },
     "execution_count": 33,
     "metadata": {},
     "output_type": "execute_result"
    }
   ],
   "source": [
    "data = data[(data['MntTotal'] > lower_bound) & (data['MntTotal'] < upper_bound)]\n",
    "data.describe()"
   ]
  },
  {
   "cell_type": "markdown",
   "id": "f04b7cb7",
   "metadata": {},
   "source": [
    "### Income Distribution Box Plot\n",
    "\n",
    "    This plot illustrates the distribution of customer income using a box plot visualization. The box represents the interquartile range (IQR), with the median income indicated by the central line. The whiskers extend to 1.5 times the IQR from the first and third quartiles, identifying potential outliers. The color palette 'viridis' enhances readability, allowing for quick insights into income distribution among customers."
   ]
  },
  {
   "cell_type": "code",
   "execution_count": 34,
   "id": "67197569",
   "metadata": {},
   "outputs": [
    {
     "data": {
      "image/png": "[encoded data removed]",
      "text/plain": [
       "<Figure size 432x288 with 1 Axes>"
      ]
     },
     "metadata": {
      "needs_background": "light"
     },
     "output_type": "display_data"
    }
   ],
   "source": [
    "plt.figure(figsize=(6, 4))\n",
    "sns.boxplot(data=data, y='Income', palette='viridis')\n",
    "plt.title('Box Plot for Income')\n",
    "plt.ylabel('Income')\n",
    "plt.show()"
   ]
  },
  {
   "cell_type": "markdown",
   "id": "c96052f3",
   "metadata": {},
   "source": [
    "### Income Distribution Histogram\n",
    "\n",
    "    This histogram showcases the distribution of customer income, providing insights into its frequency and variability. With 30 bins, it offers granularity in depicting income ranges, while the kernel density estimation (KDE) curve enhances the visualization of the probability density function. The plot allows for a quick understanding of income distribution patterns among customers, aiding in further analysis and decision-making"
   ]
  },
  {
   "cell_type": "code",
   "execution_count": 35,
   "id": "0bb0b734",
   "metadata": {},
   "outputs": [
    {
     "data": {
      "image/png": "[encoded data removed]",
      "text/plain": [
       "<Figure size 576x432 with 1 Axes>"
      ]
     },
     "metadata": {
      "needs_background": "light"
     },
     "output_type": "display_data"
    }
   ],
   "source": [
    "plt.figure(figsize=(8, 6))\n",
    "sns.histplot(data=data, x='Income', bins=30, kde=True)\n",
    "plt.title('Histogram for Income')\n",
    "plt.xlabel('Income')\n",
    "plt.ylabel('Frequency')\n",
    "plt.show()"
   ]
  },
  {
   "cell_type": "markdown",
   "id": "4c5a3e93",
   "metadata": {},
   "source": [
    "### Age Distribution Histogram\n",
    "\n",
    "    This histogram displays the distribution of customer ages, providing insights into their frequency across different age groups. With 30 bins, the plot offers granularity in depicting age ranges, while the kernel density estimation (KDE) curve enhances the visualization of the probability density function. The plot facilitates a quick understanding of age distribution patterns among customers, enabling further analysis and decision-making."
   ]
  },
  {
   "cell_type": "code",
   "execution_count": 40,
   "id": "51c31b1b",
   "metadata": {},
   "outputs": [
    {
     "data": {
      "image/png": "[encoded data removed]",
      "text/plain": [
       "<Figure size 576x432 with 1 Axes>"
      ]
     },
     "metadata": {
      "needs_background": "light"
     },
     "output_type": "display_data"
    }
   ],
   "source": [
    "plt.figure(figsize=(8, 6))\n",
    "sns.histplot(data=data, x='Age', bins=30, kde=True)\n",
    "plt.title('Histogram for Age')\n",
    "plt.xlabel('Age')\n",
    "plt.ylabel('Frequency')\n",
    "plt.show()"
   ]
  },
  {
   "cell_type": "markdown",
   "id": "a9b485c9",
   "metadata": {},
   "source": [
    "### Categorization of Data Columns"
   ]
  },
  {
   "cell_type": "code",
   "execution_count": 43,
   "id": "beeccabd",
   "metadata": {},
   "outputs": [],
   "source": [
    "cols_demographics = ['Income','Age']\n",
    "cols_children = ['Kidhome', 'Teenhome']\n",
    "cols_marital = ['marital_Divorced', 'marital_Married','marital_Single', 'marital_Together', 'marital_Widow']\n",
    "cols_mnt = ['MntTotal', 'MntRegularProds','MntWines', 'MntFruits', 'MntMeatProducts', 'MntFishProducts', 'MntSweetProducts', 'MntGoldProds']\n",
    "cols_communication = ['Complain', 'Response', 'Customer_Days']\n",
    "cols_campaigns = ['AcceptedCmpOverall', 'AcceptedCmp1', 'AcceptedCmp2', 'AcceptedCmp3', 'AcceptedCmp4', 'AcceptedCmp5']\n",
    "cols_source_of_purchase = ['NumDealsPurchases', 'NumWebPurchases','NumCatalogPurchases', 'NumStorePurchases', 'NumWebVisitsMonth']\n",
    "cols_education = ['education_2n Cycle', 'education_Basic', 'education_Graduation', 'education_Master', 'education_PhD']\n",
    "plt.show()"
   ]
  },
  {
   "cell_type": "markdown",
   "id": "f00f76fd",
   "metadata": {},
   "source": [
    "### Correlation Matrix Heatmap"
   ]
  },
  {
   "cell_type": "code",
   "execution_count": 46,
   "id": "d048fd80",
   "metadata": {},
   "outputs": [
    {
     "data": {
      "image/png": "[encoded data removed]",
      "text/plain": [
       "<Figure size 504x504 with 2 Axes>"
      ]
     },
     "metadata": {
      "needs_background": "light"
     },
     "output_type": "display_data"
    }
   ],
   "source": [
    "corr_matrix = data[['MntTotal']+cols_demographics+cols_children].corr()\n",
    "plt.figure(figsize=(7,7))\n",
    "sns.heatmap(corr_matrix, annot=True, cmap='YlGnBu', linewidths=0.5)\n",
    "plt.title('Correlation Matrix Heatmap')\n",
    "plt.show()"
   ]
  },
  {
   "cell_type": "markdown",
   "id": "cf960b92",
   "metadata": {},
   "source": [
    "### Point-Biserial Correlation Analysis for Marital Status"
   ]
  },
  {
   "cell_type": "code",
   "execution_count": 50,
   "id": "bcb64463",
   "metadata": {},
   "outputs": [
    {
     "name": "stdout",
     "output_type": "stream",
     "text": [
      "0.0053: Point-Biserial Correlation for marital_Divorced with p-value 0.8041\n",
      "-0.0188: Point-Biserial Correlation for marital_Married with p-value 0.3767\n",
      "0.0011: Point-Biserial Correlation for marital_Single with p-value 0.9571\n",
      "0.0008: Point-Biserial Correlation for marital_Together with p-value 0.9708\n",
      "0.0370: Point-Biserial Correlation for marital_Widow with p-value 0.0826\n"
     ]
    }
   ],
   "source": [
    "for col in cols_marital:\n",
    "    correlation, p_value = pointbiserialr(data[col], data['MntTotal'])\n",
    "    print(f'{correlation:.4f}: Point-Biserial Correlation for {col} with p-value {p_value:.4f}')"
   ]
  },
  {
   "cell_type": "markdown",
   "id": "46e8ed7a",
   "metadata": {},
   "source": [
    "### Point-Biserial Correlation Analysis for Education Level"
   ]
  },
  {
   "cell_type": "code",
   "execution_count": 54,
   "id": "657d225e",
   "metadata": {},
   "outputs": [
    {
     "name": "stdout",
     "output_type": "stream",
     "text": [
      "-0.0593: Point-Biserial Correlation for education_2n Cycle with p-value 0.0054\n",
      "-0.1389: Point-Biserial Correlation for education_Basic with p-value 0.0000\n",
      "0.0159: Point-Biserial Correlation for education_Graduation with p-value 0.4551\n",
      "0.0004: Point-Biserial Correlation for education_Master with p-value 0.9842\n",
      "0.0737: Point-Biserial Correlation for education_PhD with p-value 0.0005\n"
     ]
    }
   ],
   "source": [
    "for col in cols_education:\n",
    "    correlation, p_value = pointbiserialr(data[col], data['MntTotal'])\n",
    "    print(f'{correlation:.4f}: Point-Biserial Correlation for {col} with p-value {p_value:.4f}')"
   ]
  },
  {
   "cell_type": "markdown",
   "id": "5967be54",
   "metadata": {},
   "source": [
    "### Marital Status Categorization Function"
   ]
  },
  {
   "cell_type": "code",
   "execution_count": 53,
   "id": "589c2a56",
   "metadata": {},
   "outputs": [],
   "source": [
    "def get_marital_status(row):\n",
    "    if row['marital_Divorced'] == 1:\n",
    "        return 'Divorced'\n",
    "    elif row['marital_Married'] == 1:\n",
    "        return 'Married'\n",
    "    elif row['marital_Single'] == 1:\n",
    "        return 'Single'\n",
    "    elif row['marital_Together'] == 1:\n",
    "        return 'Together'\n",
    "    elif row['marital_Widow'] == 1:\n",
    "        return 'Widow'\n",
    "    else:\n",
    "        return 'Unknown'\n",
    "data['Marital'] = data.apply(get_marital_status, axis=1)"
   ]
  },
  {
   "cell_type": "markdown",
   "id": "95138183",
   "metadata": {},
   "source": [
    "### Total Purchase Amount by Marital Status"
   ]
  },
  {
   "cell_type": "code",
   "execution_count": 57,
   "id": "562c804e",
   "metadata": {},
   "outputs": [
    {
     "data": {
      "text/plain": [
       "Text(0, 0.5, 'MntTotal')"
      ]
     },
     "execution_count": 57,
     "metadata": {},
     "output_type": "execute_result"
    },
    {
     "data": {
      "image/png": "[encoded data removed]",
      "text/plain": [
       "<Figure size 648x504 with 1 Axes>"
      ]
     },
     "metadata": {
      "needs_background": "light"
     },
     "output_type": "display_data"
    }
   ],
   "source": [
    "plt.figure(figsize=(9, 7))\n",
    "sns.barplot(x='Marital', y='MntTotal', data=data, palette='viridis')\n",
    "plt.title('MntTotal by marital status')\n",
    "plt.xlabel('Marital status')\n",
    "plt.ylabel('MntTotal')"
   ]
  },
  {
   "cell_type": "markdown",
   "id": "cf917175",
   "metadata": {},
   "source": [
    "### Creating a Relationship Indicator Column"
   ]
  },
  {
   "cell_type": "code",
   "execution_count": 59,
   "id": "bb6d2388",
   "metadata": {},
   "outputs": [
    {
     "data": {
      "text/html": [
       "<div>\n",
       "<style scoped>\n",
       "    .dataframe tbody tr th:only-of-type {\n",
       "        vertical-align: middle;\n",
       "    }\n",
       "\n",
       "    .dataframe tbody tr th {\n",
       "        vertical-align: top;\n",
       "    }\n",
       "\n",
       "    .dataframe thead th {\n",
       "        text-align: right;\n",
       "    }\n",
       "</style>\n",
       "<table border=\"1\" class=\"dataframe\">\n",
       "  <thead>\n",
       "    <tr style=\"text-align: right;\">\n",
       "      <th></th>\n",
       "      <th>Income</th>\n",
       "      <th>Kidhome</th>\n",
       "      <th>Teenhome</th>\n",
       "      <th>Recency</th>\n",
       "      <th>MntWines</th>\n",
       "      <th>MntFruits</th>\n",
       "      <th>MntMeatProducts</th>\n",
       "      <th>MntFishProducts</th>\n",
       "      <th>MntSweetProducts</th>\n",
       "      <th>MntGoldProds</th>\n",
       "      <th>...</th>\n",
       "      <th>education_2n Cycle</th>\n",
       "      <th>education_Basic</th>\n",
       "      <th>education_Graduation</th>\n",
       "      <th>education_Master</th>\n",
       "      <th>education_PhD</th>\n",
       "      <th>MntTotal</th>\n",
       "      <th>MntRegularProds</th>\n",
       "      <th>AcceptedCmpOverall</th>\n",
       "      <th>Marital</th>\n",
       "      <th>In_relationship</th>\n",
       "    </tr>\n",
       "  </thead>\n",
       "  <tbody>\n",
       "    <tr>\n",
       "      <th>0</th>\n",
       "      <td>58138.0</td>\n",
       "      <td>0</td>\n",
       "      <td>0</td>\n",
       "      <td>58</td>\n",
       "      <td>635</td>\n",
       "      <td>88</td>\n",
       "      <td>546</td>\n",
       "      <td>172</td>\n",
       "      <td>88</td>\n",
       "      <td>88</td>\n",
       "      <td>...</td>\n",
       "      <td>0</td>\n",
       "      <td>0</td>\n",
       "      <td>1</td>\n",
       "      <td>0</td>\n",
       "      <td>0</td>\n",
       "      <td>1529</td>\n",
       "      <td>1441</td>\n",
       "      <td>0</td>\n",
       "      <td>Single</td>\n",
       "      <td>0</td>\n",
       "    </tr>\n",
       "    <tr>\n",
       "      <th>1</th>\n",
       "      <td>46344.0</td>\n",
       "      <td>1</td>\n",
       "      <td>1</td>\n",
       "      <td>38</td>\n",
       "      <td>11</td>\n",
       "      <td>1</td>\n",
       "      <td>6</td>\n",
       "      <td>2</td>\n",
       "      <td>1</td>\n",
       "      <td>6</td>\n",
       "      <td>...</td>\n",
       "      <td>0</td>\n",
       "      <td>0</td>\n",
       "      <td>1</td>\n",
       "      <td>0</td>\n",
       "      <td>0</td>\n",
       "      <td>21</td>\n",
       "      <td>15</td>\n",
       "      <td>0</td>\n",
       "      <td>Single</td>\n",
       "      <td>0</td>\n",
       "    </tr>\n",
       "    <tr>\n",
       "      <th>2</th>\n",
       "      <td>71613.0</td>\n",
       "      <td>0</td>\n",
       "      <td>0</td>\n",
       "      <td>26</td>\n",
       "      <td>426</td>\n",
       "      <td>49</td>\n",
       "      <td>127</td>\n",
       "      <td>111</td>\n",
       "      <td>21</td>\n",
       "      <td>42</td>\n",
       "      <td>...</td>\n",
       "      <td>0</td>\n",
       "      <td>0</td>\n",
       "      <td>1</td>\n",
       "      <td>0</td>\n",
       "      <td>0</td>\n",
       "      <td>734</td>\n",
       "      <td>692</td>\n",
       "      <td>0</td>\n",
       "      <td>Together</td>\n",
       "      <td>1</td>\n",
       "    </tr>\n",
       "    <tr>\n",
       "      <th>3</th>\n",
       "      <td>26646.0</td>\n",
       "      <td>1</td>\n",
       "      <td>0</td>\n",
       "      <td>26</td>\n",
       "      <td>11</td>\n",
       "      <td>4</td>\n",
       "      <td>20</td>\n",
       "      <td>10</td>\n",
       "      <td>3</td>\n",
       "      <td>5</td>\n",
       "      <td>...</td>\n",
       "      <td>0</td>\n",
       "      <td>0</td>\n",
       "      <td>1</td>\n",
       "      <td>0</td>\n",
       "      <td>0</td>\n",
       "      <td>48</td>\n",
       "      <td>43</td>\n",
       "      <td>0</td>\n",
       "      <td>Together</td>\n",
       "      <td>1</td>\n",
       "    </tr>\n",
       "    <tr>\n",
       "      <th>4</th>\n",
       "      <td>58293.0</td>\n",
       "      <td>1</td>\n",
       "      <td>0</td>\n",
       "      <td>94</td>\n",
       "      <td>173</td>\n",
       "      <td>43</td>\n",
       "      <td>118</td>\n",
       "      <td>46</td>\n",
       "      <td>27</td>\n",
       "      <td>15</td>\n",
       "      <td>...</td>\n",
       "      <td>0</td>\n",
       "      <td>0</td>\n",
       "      <td>0</td>\n",
       "      <td>0</td>\n",
       "      <td>1</td>\n",
       "      <td>407</td>\n",
       "      <td>392</td>\n",
       "      <td>0</td>\n",
       "      <td>Married</td>\n",
       "      <td>1</td>\n",
       "    </tr>\n",
       "  </tbody>\n",
       "</table>\n",
       "<p>5 rows × 39 columns</p>\n",
       "</div>"
      ],
      "text/plain": [
       "    Income  Kidhome  Teenhome  Recency  MntWines  MntFruits  MntMeatProducts  \\\n",
       "0  58138.0        0         0       58       635         88              546   \n",
       "1  46344.0        1         1       38        11          1                6   \n",
       "2  71613.0        0         0       26       426         49              127   \n",
       "3  26646.0        1         0       26        11          4               20   \n",
       "4  58293.0        1         0       94       173         43              118   \n",
       "\n",
       "   MntFishProducts  MntSweetProducts  MntGoldProds  ...  education_2n Cycle  \\\n",
       "0              172                88            88  ...                   0   \n",
       "1                2                 1             6  ...                   0   \n",
       "2              111                21            42  ...                   0   \n",
       "3               10                 3             5  ...                   0   \n",
       "4               46                27            15  ...                   0   \n",
       "\n",
       "   education_Basic  education_Graduation  education_Master  education_PhD  \\\n",
       "0                0                     1                 0              0   \n",
       "1                0                     1                 0              0   \n",
       "2                0                     1                 0              0   \n",
       "3                0                     1                 0              0   \n",
       "4                0                     0                 0              1   \n",
       "\n",
       "   MntTotal  MntRegularProds  AcceptedCmpOverall   Marital  In_relationship  \n",
       "0      1529             1441                   0    Single                0  \n",
       "1        21               15                   0    Single                0  \n",
       "2       734              692                   0  Together                1  \n",
       "3        48               43                   0  Together                1  \n",
       "4       407              392                   0   Married                1  \n",
       "\n",
       "[5 rows x 39 columns]"
      ]
     },
     "execution_count": 59,
     "metadata": {},
     "output_type": "execute_result"
    }
   ],
   "source": [
    "def get_relationship(row):\n",
    "    if row['marital_Married'] ==1:\n",
    "        return 1\n",
    "    elif row['marital_Together'] == 1:\n",
    "        return 1\n",
    "    else:\n",
    "        return 0\n",
    "data['In_relationship'] = data.apply(get_relationship, axis=1)\n",
    "data.head()"
   ]
  },
  {
   "cell_type": "markdown",
   "id": "066c5d74",
   "metadata": {},
   "source": [
    "### Scaling Features for Clustering with StandardScaler\n",
    "\n",
    "    This Python code uses StandardScaler from sklearn to normalize selected columns ('Income', 'MntTotal', and 'In_relationship') in the data DataFrame. Normalization is done to ensure these features have a mean of zero and standard deviation of one, optimizing them for clustering algorithms. The scaled data is stored in data_scaled, and its statistical summary is displayed using .describe()."
   ]
  },
  {
   "cell_type": "code",
   "execution_count": 60,
   "id": "f597300a",
   "metadata": {},
   "outputs": [
    {
     "data": {
      "text/html": [
       "<div>\n",
       "<style scoped>\n",
       "    .dataframe tbody tr th:only-of-type {\n",
       "        vertical-align: middle;\n",
       "    }\n",
       "\n",
       "    .dataframe tbody tr th {\n",
       "        vertical-align: top;\n",
       "    }\n",
       "\n",
       "    .dataframe thead th {\n",
       "        text-align: right;\n",
       "    }\n",
       "</style>\n",
       "<table border=\"1\" class=\"dataframe\">\n",
       "  <thead>\n",
       "    <tr style=\"text-align: right;\">\n",
       "      <th></th>\n",
       "      <th>Income</th>\n",
       "      <th>MntTotal</th>\n",
       "      <th>In_relationship</th>\n",
       "    </tr>\n",
       "  </thead>\n",
       "  <tbody>\n",
       "    <tr>\n",
       "      <th>count</th>\n",
       "      <td>2.202000e+03</td>\n",
       "      <td>2.202000e+03</td>\n",
       "      <td>2.202000e+03</td>\n",
       "    </tr>\n",
       "    <tr>\n",
       "      <th>mean</th>\n",
       "      <td>2.287125e-17</td>\n",
       "      <td>-9.246817e-17</td>\n",
       "      <td>-6.705707e-17</td>\n",
       "    </tr>\n",
       "    <tr>\n",
       "      <th>std</th>\n",
       "      <td>1.000227e+00</td>\n",
       "      <td>1.000227e+00</td>\n",
       "      <td>1.000227e+00</td>\n",
       "    </tr>\n",
       "    <tr>\n",
       "      <th>min</th>\n",
       "      <td>-2.410685e+00</td>\n",
       "      <td>-9.724232e-01</td>\n",
       "      <td>-1.348874e+00</td>\n",
       "    </tr>\n",
       "    <tr>\n",
       "      <th>25%</th>\n",
       "      <td>-7.926475e-01</td>\n",
       "      <td>-8.815089e-01</td>\n",
       "      <td>-1.348874e+00</td>\n",
       "    </tr>\n",
       "    <tr>\n",
       "      <th>50%</th>\n",
       "      <td>-1.508040e-02</td>\n",
       "      <td>-3.806058e-01</td>\n",
       "      <td>7.413589e-01</td>\n",
       "    </tr>\n",
       "    <tr>\n",
       "      <th>75%</th>\n",
       "      <td>8.017617e-01</td>\n",
       "      <td>7.024988e-01</td>\n",
       "      <td>7.413589e-01</td>\n",
       "    </tr>\n",
       "    <tr>\n",
       "      <th>max</th>\n",
       "      <td>3.006747e+00</td>\n",
       "      <td>3.048788e+00</td>\n",
       "      <td>7.413589e-01</td>\n",
       "    </tr>\n",
       "  </tbody>\n",
       "</table>\n",
       "</div>"
      ],
      "text/plain": [
       "             Income      MntTotal  In_relationship\n",
       "count  2.202000e+03  2.202000e+03     2.202000e+03\n",
       "mean   2.287125e-17 -9.246817e-17    -6.705707e-17\n",
       "std    1.000227e+00  1.000227e+00     1.000227e+00\n",
       "min   -2.410685e+00 -9.724232e-01    -1.348874e+00\n",
       "25%   -7.926475e-01 -8.815089e-01    -1.348874e+00\n",
       "50%   -1.508040e-02 -3.806058e-01     7.413589e-01\n",
       "75%    8.017617e-01  7.024988e-01     7.413589e-01\n",
       "max    3.006747e+00  3.048788e+00     7.413589e-01"
      ]
     },
     "execution_count": 60,
     "metadata": {},
     "output_type": "execute_result"
    }
   ],
   "source": [
    "scaler = StandardScaler()\n",
    "cols_for_clustering = ['Income', 'MntTotal', 'In_relationship']\n",
    "data_scaled = data.copy()\n",
    "data_scaled[cols_for_clustering] = scaler.fit_transform(data[cols_for_clustering])\n",
    "data_scaled[cols_for_clustering].describe()"
   ]
  },
  {
   "cell_type": "code",
   "execution_count": 61,
   "id": "d04e2bc8",
   "metadata": {},
   "outputs": [],
   "source": [
    "from sklearn import decomposition\n",
    "pca = decomposition.PCA(n_components = 2)\n",
    "pca_res = pca.fit_transform(data_scaled[cols_for_clustering])\n",
    "data_scaled['pc1'] = pca_res[:,0]\n",
    "data_scaled['pc2'] = pca_res[:,1]"
   ]
  },
  {
   "cell_type": "markdown",
   "id": "1e53b97d",
   "metadata": {},
   "source": [
    "### Resolving Namespace Conflict: 'KMeans'"
   ]
  },
  {
   "cell_type": "code",
   "execution_count": 62,
   "id": "d2242c81",
   "metadata": {},
   "outputs": [],
   "source": [
    "# Check if there is a variable named 'KMeans'\n",
    "if 'KMeans' in globals():\n",
    "    # Delete the variable to avoid conflict\n",
    "    del globals()['KMeans']"
   ]
  },
  {
   "cell_type": "markdown",
   "id": "ead0c9ca",
   "metadata": {},
   "source": [
    "### Evaluating Optimal Clusters with Silhouette Scores"
   ]
  },
  {
   "cell_type": "code",
   "execution_count": 63,
   "id": "8f85f2e9",
   "metadata": {},
   "outputs": [
    {
     "name": "stdout",
     "output_type": "stream",
     "text": [
      "An error occurred while processing K=2: name 'KMeans' is not defined\n",
      "An error occurred while processing K=3: name 'KMeans' is not defined\n",
      "An error occurred while processing K=4: name 'KMeans' is not defined\n",
      "An error occurred while processing K=5: name 'KMeans' is not defined\n",
      "An error occurred while processing K=6: name 'KMeans' is not defined\n",
      "An error occurred while processing K=7: name 'KMeans' is not defined\n",
      "An error occurred while processing K=8: name 'KMeans' is not defined\n",
      "An error occurred while processing K=9: name 'KMeans' is not defined\n"
     ]
    },
    {
     "data": {
      "image/png": "[encoded data removed]",
      "text/plain": [
       "<Figure size 504x360 with 1 Axes>"
      ]
     },
     "metadata": {
      "needs_background": "light"
     },
     "output_type": "display_data"
    }
   ],
   "source": [
    "X = np.random.rand(100, 2)  # 100 samples with 2 features each\n",
    "\n",
    "# Define the range of K values to iterate over\n",
    "K_range = range(2, 10)\n",
    "\n",
    "# Initialize an empty list to store silhouette scores\n",
    "silhouette_list = []\n",
    "\n",
    "# Iterate over the range of K values\n",
    "for K in K_range:\n",
    "    try:\n",
    "        # Create a KMeans model with the current K value\n",
    "        model = KMeans(n_clusters=K, random_state=7)\n",
    "\n",
    "        # Fit the model to the data\n",
    "        clusters = model.fit_predict(X)\n",
    "\n",
    "        # Calculate the average silhouette score\n",
    "        s_avg = silhouette_score(X, clusters)\n",
    "\n",
    "        # Append the silhouette score to the list\n",
    "        silhouette_list.append(s_avg)\n",
    "    except Exception as e:\n",
    "        print(f\"An error occurred while processing K={K}: {e}\")\n",
    "        silhouette_list.append(None)\n",
    "\n",
    "# Plot the silhouette scores for each K value\n",
    "plt.figure(figsize=[7, 5])\n",
    "plt.plot(K_range, silhouette_list, marker='o', linestyle='-', color=(54 / 255, 113 / 255, 130 / 255))\n",
    "plt.title(\"Silhouette Score vs. Number of Clusters\")\n",
    "plt.xlabel(\"Number of Clusters\")\n",
    "plt.ylabel(\"Silhouette Score\")\n",
    "plt.grid(True)\n",
    "plt.show()"
   ]
  },
  {
   "cell_type": "markdown",
   "id": "36af3f9f",
   "metadata": {},
   "source": [
    "### Performing PCA Transformation\n",
    "\n",
    "    This Python code snippet showcases the process of performing Principal Component Analysis (PCA) transformation on a dataset. The provided code imports the necessary modules, generates sample data, scales it using StandardScaler, and then reduces its dimensionality to two principal components using PCA."
   ]
  },
  {
   "cell_type": "code",
   "execution_count": 64,
   "id": "ffa9a593",
   "metadata": {},
   "outputs": [],
   "source": [
    "# Import KMeans class\n",
    "from sklearn.cluster import KMeans\n",
    "\n",
    "# Check if there is a variable named 'KMeans'\n",
    "if 'KMeans' in globals():\n",
    "    # Delete the variable to avoid conflict\n",
    "    del globals()['KMeans']\n",
    "\n",
    "# Sample Data (Please replace this with your actual dataset)\n",
    "np.random.seed(0)\n",
    "data = pd.DataFrame(np.random.randn(100, 4), columns=['Feature1', 'Feature2', 'Feature3', 'Feature4'])\n",
    "\n",
    "# Scaling the data\n",
    "scaler = StandardScaler()\n",
    "data_scaled = scaler.fit_transform(data)\n",
    "\n",
    "# PCA Transformation\n",
    "pca = PCA(n_components=2)  # We reduce the dimensionality to 2 principal components\n",
    "principal_components_ = pca.fit_transform(data_scaled)"
   ]
  },
  {
   "cell_type": "markdown",
   "id": "420e449d",
   "metadata": {},
   "source": [
    "Clustering Analysis Results\n",
    "\n",
    "    The Python script demonstrates a straightforward analysis using KMeans clustering on a sample dataset. Features 'Feature1', 'Feature2', and 'Feature3' are scaled before clustering. After clustering, the mean values of 'Feature2' and 'Feature3' for each cluster are calculated and presented, providing insights into the behavior of different clusters with respect to these features."
   ]
  },
  {
   "cell_type": "code",
   "execution_count": 65,
   "id": "c692a4f9",
   "metadata": {},
   "outputs": [
    {
     "name": "stdout",
     "output_type": "stream",
     "text": [
      "   Cluster  Feature2  Feature3\n",
      "0        0      80.0      75.0\n",
      "1        1      30.0      25.0\n",
      "2        2      55.0      50.0\n"
     ]
    }
   ],
   "source": [
    "from sklearn.cluster import KMeans\n",
    "data = pd.DataFrame({\n",
    "    'Feature1': [10, 20, 30, 40, 50, 60, 70, 80],\n",
    "    'Feature2': [20, 30, 40, 50, 60, 70, 80, 90],\n",
    "    'Feature3': [15, 25, 35, 45, 55, 65, 75, 85]\n",
    "})\n",
    "\n",
    "# Defining columns for clustering and the columns to calculate means for\n",
    "cols_for_clustering = ['Feature1', 'Feature2', 'Feature3']\n",
    "cols_mnt = ['Feature2', 'Feature3']  # These should be the columns you are interested in analyzing\n",
    "\n",
    "# Scaling the data\n",
    "scaler = StandardScaler()\n",
    "data_scaled = pd.DataFrame(scaler.fit_transform(data[cols_for_clustering]), columns=cols_for_clustering)\n",
    "\n",
    "# Perform KMeans clustering\n",
    "kmeans = KMeans(n_clusters=3, random_state=7)\n",
    "data['Cluster'] = kmeans.fit_predict(data_scaled)\n",
    "\n",
    "# Calculate the mean of specified columns for each cluster\n",
    "mnt_data = data.groupby('Cluster')[cols_mnt].mean().reset_index()\n",
    "\n",
    "# Display the first few rows of the processed data\n",
    "print(mnt_data.head())"
   ]
  },
  {
   "cell_type": "markdown",
   "id": "43d5e1f7",
   "metadata": {},
   "source": [
    "### Visualizing Product Consumption by Cluster"
   ]
  },
  {
   "cell_type": "code",
   "execution_count": 66,
   "id": "a300a9da",
   "metadata": {
    "scrolled": false
   },
   "outputs": [
    {
     "data": {
      "text/plain": [
       "<matplotlib.legend.Legend at 0x2206c0dd160>"
      ]
     },
     "execution_count": 66,
     "metadata": {},
     "output_type": "execute_result"
    },
    {
     "data": {
      "image/png": "[encoded data removed]",
      "text/plain": [
       "<Figure size 864x432 with 1 Axes>"
      ]
     },
     "metadata": {
      "needs_background": "light"
     },
     "output_type": "display_data"
    }
   ],
   "source": [
    "melted_data = pd.melt(mnt_data, id_vars=\"Cluster\", var_name=\"Product\", value_name=\"Consumption\")\n",
    "plt.figure(figsize=(12, 6))\n",
    "sns.barplot(x=\"Cluster\", y=\"Consumption\", hue=\"Product\", data=melted_data, ci=None, palette=\"viridis\")\n",
    "plt.title(\"Product Consumption by Cluster\")\n",
    "plt.xlabel(\"Cluster\")\n",
    "plt.ylabel(\"Product Consumption\")\n",
    "plt.xticks(rotation=0)\n",
    "plt.legend(title=\"Product\", loc=\"upper right\")\n"
   ]
  },
  {
   "cell_type": "code",
   "execution_count": 68,
   "id": "0df0a242",
   "metadata": {},
   "outputs": [
    {
     "data": {
      "image/png": "[encoded data removed]",
      "text/plain": [
       "<Figure size 576x432 with 1 Axes>"
      ]
     },
     "metadata": {
      "needs_background": "light"
     },
     "output_type": "display_data"
    }
   ],
   "source": [
    "# Mock data for demonstration (replace with your data)\n",
    "data = pd.DataFrame({\n",
    "    'MntTotal': [100, 150, 200, 250, 300, 350, 400, 450],\n",
    "    'Cluster': [0, 1, 0, 1, 0, 1, 0, 1]\n",
    "})\n",
    "\n",
    "# Calculate the count of entries in each cluster\n",
    "cluster_sizes = data.groupby('Cluster')[['MntTotal']].count().reset_index()\n",
    "cluster_sizes.rename(columns={'MntTotal': 'Count'}, inplace=True)  # Rename to reflect that this is a count\n",
    "\n",
    "# Plotting\n",
    "plt.figure(figsize=(8,6))\n",
    "sns.barplot(x='Cluster', y='Count', data=cluster_sizes, palette='viridis')\n",
    "plt.title('Cluster Sizes')\n",
    "plt.xlabel('Cluster')\n",
    "plt.ylabel('Count')\n",
    "plt.show()\n",
    "     \n"
   ]
  },
  {
   "cell_type": "code",
   "execution_count": 69,
   "id": "3b5d5b57",
   "metadata": {},
   "outputs": [],
   "source": [
    "# Calculating cluster sizes assuming 'Cluster' and 'MntTotal' are correct column names\n",
    "cluster_sizes = data.groupby('Cluster')[['MntTotal']].count().reset_index()\n",
    "cluster_sizes.rename(columns={'MntTotal': 'Count'}, inplace=True)  # Rename to avoid confusion\n",
    "\n",
    "# Calculate total rows in the original DataFrame\n",
    "total_rows = len(data)\n",
    "\n",
    "# Calculate the share of each cluster\n",
    "cluster_sizes['Share%'] = round(cluster_sizes['Count'] / total_rows * 100, 0)\n",
    "\n",
    "# Display the first few rows of the updated cluster_sizes DataFrame"
   ]
  },
  {
   "cell_type": "markdown",
   "id": "ec9afa67",
   "metadata": {},
   "source": [
    "### Boxplot of Total Amount by Cluster"
   ]
  },
  {
   "cell_type": "code",
   "execution_count": 70,
   "id": "ed8949f0",
   "metadata": {},
   "outputs": [
    {
     "data": {
      "image/png": "[encoded data removed]",
      "text/plain": [
       "<Figure size 432x288 with 1 Axes>"
      ]
     },
     "metadata": {
      "needs_background": "light"
     },
     "output_type": "display_data"
    }
   ],
   "source": [
    "# Sample data (replace with your actual data)\n",
    "data = {\n",
    "    'Cluster': [0, 1, 2, 0, 1, 2, 0, 1, 2],\n",
    "    'MntTotal': [100, 150, 200, 250, 300, 350, 400, 450, 500]\n",
    "}\n",
    "df = pd.DataFrame(data)\n",
    "# Create a boxplot for each cluster\n",
    "sns.boxplot(x='Cluster', y='MntTotal', data=df)\n",
    "plt.title('Boxplot of MntTotal by Cluster')\n",
    "plt.xlabel('Cluster')\n",
    "plt.ylabel('MntTotal')\n",
    "plt.show()"
   ]
  },
  {
   "cell_type": "code",
   "execution_count": 71,
   "id": "cb74ed0a",
   "metadata": {},
   "outputs": [
    {
     "name": "stdout",
     "output_type": "stream",
     "text": [
      "Index(['Cluster', 'MntTotal'], dtype='object')\n"
     ]
    }
   ],
   "source": [
    "# Convert the dictionary to a DataFrame\n",
    "data = pd.DataFrame(data)\n",
    "\n",
    "# Print the column names\n",
    "print(data.columns)\n",
    "\n",
    "# Check if 'MntTotal' column exists\n",
    "if 'MntTotal' not in data.columns:\n",
    "    raise ValueError('The \"data\" DataFrame does not have a column named \"MntTotal\".')"
   ]
  },
  {
   "cell_type": "code",
   "execution_count": 81,
   "id": "dfc7655f",
   "metadata": {},
   "outputs": [
    {
     "name": "stderr",
     "output_type": "stream",
     "text": [
      "No artists with labels found to put in legend.  Note that artists whose label start with an underscore are ignored when legend() is called with no argument.\n"
     ]
    },
    {
     "data": {
      "text/plain": [
       "<matplotlib.legend.Legend at 0x22070830fd0>"
      ]
     },
     "execution_count": 81,
     "metadata": {},
     "output_type": "execute_result"
    },
    {
     "data": {
      "image/png": "[encoded data removed]",
      "text/plain": [
       "<Figure size 648x504 with 1 Axes>"
      ]
     },
     "metadata": {
      "needs_background": "light"
     },
     "output_type": "display_data"
    }
   ],
   "source": [
    "plt.figure(figsize=(9, 7))\n",
    "sns.boxplot(x='Cluster', y='MntTotal', data=data, palette='YlOrRd_r')\n",
    "plt.title('Income by cluster')\n",
    "plt.xlabel('Cluster')\n",
    "plt.ylabel('Income')\n",
    "plt.legend(title='Clusters')"
   ]
  },
  {
   "cell_type": "code",
   "execution_count": null,
   "id": "b733db91",
   "metadata": {},
   "outputs": [],
   "source": []
  },
  {
   "cell_type": "code",
   "execution_count": null,
   "id": "a1c92659",
   "metadata": {},
   "outputs": [],
   "source": []
  }
 ],
 "metadata": {
  "kernelspec": {
   "display_name": "Python 3 (ipykernel)",
   "language": "python",
   "name": "python3"
  },
  "language_info": {
   "codemirror_mode": {
    "name": "ipython",
    "version": 3
   },
   "file_extension": ".py",
   "mimetype": "text/x-python",
   "name": "python",
   "nbconvert_exporter": "python",
   "pygments_lexer": "ipython3",
   "version": "3.9.12"
  }
 },
 "nbformat": 4,
 "nbformat_minor": 5
}
